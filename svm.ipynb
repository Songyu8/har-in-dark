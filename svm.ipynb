{
 "cells": [
  {
   "cell_type": "code",
   "execution_count": 1,
   "metadata": {},
   "outputs": [],
   "source": [
    "import os\n",
    "import cv2\n",
    "import torch\n",
    "import clip\n",
    "import numpy as np\n",
    "from tqdm import tqdm\n",
    "from torchvision import transforms\n",
    "from sklearn.svm import SVC\n",
    "from sklearn.metrics import accuracy_score\n",
    "import seaborn as sns\n",
    "import matplotlib.pyplot as plt\n",
    "from sklearn.metrics import confusion_matrix"
   ]
  },
  {
   "cell_type": "code",
   "execution_count": 18,
   "metadata": {},
   "outputs": [
    {
     "name": "stderr",
     "output_type": "stream",
     "text": [
      "100%|██████████| 150/150 [02:06<00:00,  1.19it/s]\n"
     ]
    }
   ],
   "source": [
    "# Assuming 'model' is your pre-trained model and 'device' is your device (e.g., 'cuda' or 'cpu')\n",
    "device = \"cuda\" if torch.cuda.is_available() else \"cpu\"\n",
    "model, preprocess = clip.load('ViT-B/32', device)\n",
    "\n",
    "class_mapping = {\n",
    "    'Jump': 0,\n",
    "    'Run': 1,\n",
    "    'Sit': 2,\n",
    "    'Stand': 3,\n",
    "    'Turn': 4,\n",
    "    'Walk': 5\n",
    "}\n",
    "\n",
    "# Transform to be applied to each frame\n",
    "transform = transforms.Compose([\n",
    "    transforms.ToPILImage(),\n",
    "    transforms.Resize((224, 224)),\n",
    "    transforms.ToTensor(),\n",
    "    transforms.Normalize(mean=[0.485, 0.456, 0.406], std=[0.229, 0.224, 0.225]),\n",
    "])\n",
    "\n",
    "# Path to the folder containing images\n",
    "folder_path = \"C:\\\\Users\\\\songyu\\\\Desktop\\\\output_images_enhance\"\n",
    "# Lists to store features and labels\n",
    "fused_feature=[]\n",
    "fused_lables=[]\n",
    "# Read and process each image in the folder\n",
    "for video_folder in tqdm(os.listdir(folder_path)):\n",
    "    category=video_folder.split('_')[0]\n",
    "    all_features = []\n",
    "    all_labels = []\n",
    "    video_path=os.path.join(folder_path,video_folder)\n",
    "    for image_name in os.listdir(video_path):\n",
    "        image_path = os.path.join(video_path, image_name)\n",
    "        frame = cv2.imread(image_path)\n",
    "        frame = transform(frame)\n",
    "        frame = torch.unsqueeze(frame, 0)\n",
    "\n",
    "        with torch.no_grad():\n",
    "            features = model.encode_image(frame.to(device))\n",
    "            all_features.append(features)    \n",
    "    fused_feature.append(torch.mean(torch.squeeze(torch.stack(all_features)), dim=0).cpu())\n",
    "    fused_lables.append(class_mapping[category])"
   ]
  },
  {
   "cell_type": "code",
   "execution_count": 21,
   "metadata": {},
   "outputs": [
    {
     "name": "stdout",
     "output_type": "stream",
     "text": [
      "(150, 512)\n",
      "[0 0 0 0 0 0 0 0 0 0 0 0 0 0 0 0 0 0 0 0 0 0 0 0 0 1 1 1 1 1 1 1 1 1 1 1 1\n",
      " 1 1 1 1 1 1 1 1 1 1 1 1 1 2 2 2 2 2 2 2 2 2 2 2 2 2 2 2 2 2 2 2 2 2 2 2 2\n",
      " 2 3 3 3 3 3 3 3 3 3 3 3 3 3 3 3 3 3 3 3 3 3 3 3 3 3 4 4 4 4 4 4 4 4 4 4 4\n",
      " 4 4 4 4 4 4 4 4 4 4 4 4 4 4 5 5 5 5 5 5 5 5 5 5 5 5 5 5 5 5 5 5 5 5 5 5 5\n",
      " 5 5]\n"
     ]
    }
   ],
   "source": [
    "X_train = np.array(torch.stack(fused_feature))\n",
    "y_train = np.array(fused_lables)\n",
    "\n",
    "print(X_train.shape)\n",
    "print(y_train)"
   ]
  },
  {
   "cell_type": "code",
   "execution_count": 30,
   "metadata": {},
   "outputs": [
    {
     "name": "stderr",
     "output_type": "stream",
     "text": [
      "100%|██████████| 96/96 [01:24<00:00,  1.14it/s]\n"
     ]
    }
   ],
   "source": [
    "# 设置测试数据集文件路径\n",
    "test_mapping_path = r'C:\\\\Users\\\\songyu\\\\Desktop\\\\EE6222 train and validate 2023\\\\validate.txt' \n",
    "\n",
    "# 读取测试数据集映射\n",
    "test_mapping = np.genfromtxt(test_mapping_path, dtype=str)\n",
    "\n",
    "# 收集数据和标签\n",
    "fused_feature_test=[]\n",
    "fused_lables_test=[]\n",
    "\n",
    "test_path='C:\\\\Users\\\\songyu\\\\Desktop\\\\output_images_enhance_test'\n",
    "# Lists to store features and labels\n",
    "# Read and process each image in the folder\n",
    "for entry in tqdm(test_mapping):\n",
    "    video_test = []\n",
    "    lable_teat = []\n",
    "    _,class_index,video_name = entry\n",
    "    video_extend=video_name.split('.')[0]\n",
    "    video_path=os.path.join(test_path,video_extend)\n",
    "    for image_name in os.listdir(video_path):\n",
    "        image_path = os.path.join(video_path, image_name)\n",
    "        frame = cv2.imread(image_path)\n",
    "        frame = transform(frame)\n",
    "        frame = torch.unsqueeze(frame, 0)\n",
    "        with torch.no_grad():\n",
    "            features = model.encode_image(frame.to(device))\n",
    "            video_test.append(features)\n",
    "\n",
    "    fused_lables_test.append(class_index)\n",
    "    fused_feature_test.append(torch.mean(torch.squeeze(torch.stack(video_test)), dim=0).cpu())"
   ]
  },
  {
   "cell_type": "code",
   "execution_count": 39,
   "metadata": {},
   "outputs": [
    {
     "name": "stdout",
     "output_type": "stream",
     "text": [
      "(96, 512)\n"
     ]
    }
   ],
   "source": [
    "video_test=np.array(torch.stack(fused_feature_test,dim=0))\n",
    "lable_teat=np.array(fused_lables_test)\n"
   ]
  },
  {
   "cell_type": "code",
   "execution_count": 42,
   "metadata": {},
   "outputs": [
    {
     "name": "stdout",
     "output_type": "stream",
     "text": [
      "['0' '0' '0' '0' '0' '0' '0' '0' '0' '0' '0' '0' '0' '0' '0' '0' '0' '1'\n",
      " '1' '1' '1' '1' '1' '1' '1' '1' '1' '1' '1' '1' '1' '1' '2' '2' '2' '2'\n",
      " '2' '2' '2' '2' '2' '2' '2' '2' '2' '2' '2' '3' '3' '3' '3' '3' '3' '3'\n",
      " '3' '3' '3' '3' '3' '3' '3' '3' '3' '4' '4' '4' '4' '4' '4' '4' '4' '4'\n",
      " '4' '4' '4' '4' '4' '4' '4' '4' '5' '5' '5' '5' '5' '5' '5' '5' '5' '5'\n",
      " '5' '5' '5' '5' '5' '5']\n",
      "[0, 0, 0, 0, 0, 0, 0, 0, 0, 0, 0, 0, 0, 0, 0, 0, 0, 1, 1, 1, 1, 1, 1, 1, 1, 1, 1, 1, 1, 1, 1, 1, 2, 2, 2, 2, 2, 2, 2, 2, 2, 2, 2, 2, 2, 2, 2, 3, 3, 3, 3, 3, 3, 3, 3, 3, 3, 3, 3, 3, 3, 3, 3, 4, 4, 4, 4, 4, 4, 4, 4, 4, 4, 4, 4, 4, 4, 4, 4, 4, 5, 5, 5, 5, 5, 5, 5, 5, 5, 5, 5, 5, 5, 5, 5, 5]\n"
     ]
    }
   ],
   "source": [
    "print(lable_teat)\n",
    "lable_teat_true = [int(x) for x in lable_teat]\n",
    "print(lable_teat_true)"
   ]
  },
  {
   "cell_type": "code",
   "execution_count": 57,
   "metadata": {},
   "outputs": [
    {
     "name": "stdout",
     "output_type": "stream",
     "text": [
      "[3 5 0 0 5 5 5 1 5 0 0 0 0 0 0 0 2 5 5 3 1 1 1 1 1 1 5 5 5 1 1 5 2 5 2 5 5\n",
      " 5 5 5 5 5 1 5 5 1 5 2 2 2 5 5 5 5 5 5 5 5 5 5 5 5 5 5 3 5 5 0 5 0 5 0 0 0\n",
      " 5 5 5 5 5 5 1 5 3 2 1 2 2 2 2 2 2 2 2 1 1 1]\n",
      "Accuracy: 0.20833333333333334\n"
     ]
    }
   ],
   "source": [
    "# 构建SVM模型\n",
    "svm_model = SVC(kernel='rbf',C=0.1)\n",
    "\n",
    "# 训练模型\n",
    "svm_model.fit(X_train, y_train)\n",
    "\n",
    "# 预测测试集\n",
    "y_pred = svm_model.predict(video_test)\n",
    "\n",
    "print(y_pred)\n",
    "\n",
    "cm = confusion_matrix(lable_teat_true, y_pred)\n",
    "\n",
    "# 评估模型性能\n",
    "accuracy = accuracy_score(lable_teat_true, y_pred)\n",
    "print(f\"Accuracy: {accuracy}\")"
   ]
  },
  {
   "cell_type": "code",
   "execution_count": 58,
   "metadata": {},
   "outputs": [
    {
     "data": {
      "image/png": "[encoded data removed]",
      "text/plain": [
       "<Figure size 1600x1000 with 1 Axes>"
      ]
     },
     "metadata": {},
     "output_type": "display_data"
    }
   ],
   "source": [
    "\n",
    "# 画图\n",
    "plt.figure(figsize=(16, 10))\n",
    "\n",
    "class_labels = [\"Jump\", \"Run\", \"Sit\", \"Stand\", \"Turn\", \"Walk\"]\n",
    "sns.heatmap(cm, annot=True, fmt=\"d\", cmap=\"Blues\", cbar=False,xticklabels=class_labels, yticklabels=class_labels)\n",
    "plt.title('Confusion Matrix')\n",
    "plt.xlabel('Predicted')\n",
    "plt.ylabel('True')\n",
    "plt.show()"
   ]
  }
 ],
 "metadata": {
  "kernelspec": {
   "display_name": "py39",
   "language": "python",
   "name": "python3"
  },
  "language_info": {
   "codemirror_mode": {
    "name": "ipython",
    "version": 3
   },
   "file_extension": ".py",
   "mimetype": "text/x-python",
   "name": "python",
   "nbconvert_exporter": "python",
   "pygments_lexer": "ipython3",
   "version": "3.9.16"
  }
 },
 "nbformat": 4,
 "nbformat_minor": 2
}
